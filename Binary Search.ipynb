{
 "cells": [
  {
   "cell_type": "markdown",
   "id": "0d896ca6",
   "metadata": {},
   "source": [
    "# Linear Search vs Binary Search"
   ]
  },
  {
   "cell_type": "markdown",
   "id": "f1a8792b",
   "metadata": {},
   "source": [
    "## What is Linear Search?"
   ]
  },
  {
   "cell_type": "markdown",
   "id": "58afba05",
   "metadata": {},
   "source": [
    ">### In the Linear search, the target is compared with each element of the array. So the worst case scenario is that, the target element is found at the last test case of the array, then the target is compared with N elements of the array, given the size of the array is N\n",
    "\n",
    ">#### Let N be the size of the array <br>  Since the target element is compared with each element of the array and worst case the target is identified at the last element.<br>Time complexity: Best case = O(1), Worst case = O(N)<br>Space Complexity = O(1)"
   ]
  },
  {
   "cell_type": "markdown",
   "id": "9c11fa20",
   "metadata": {},
   "source": [
    "## What is Binary Search?"
   ]
  },
  {
   "cell_type": "markdown",
   "id": "34b5866c",
   "metadata": {},
   "source": [
    ">### Binary search is a search alogorithm that searches the target value in the given array. Binary Search works if the array is sorted. It identifies the middle element of the array and if the target matches the middle element, it returns the value. If the target element lies in the left half of the array, it then sets the range as 0 to mid-1. If the target element is to the right of the middle element then the range is set as mid+1 to len(array)-1<br><br>Time complexity: Best case = O(1), Worst case = O(log(N))<br>Space compexity = O(1)"
   ]
  },
  {
   "cell_type": "markdown",
   "id": "3c8f0479",
   "metadata": {},
   "source": [
    ">#### Let N be the size of the array<br>first comparison = N/2 <br> second comparison = N/4 = N/(2^2) <br> .... <br> k comparison = N/(2^k) <br><br> Let us consider after k th comparison, we arrive at the target value and the array size becomes 1 <br><br> N/(2^K) = 1 <br> N = 2^k <br>Taking log on both sides: <br><br> log(N) = log (2^k) <br> log(N) = k(log 2) ===> k = log N <br><br><br> For example: if size of the array = 8, no of comparisons (worst case) ====> k = log 8 = 3 \n",
    "\n",
    "\n",
    "\n"
   ]
  },
  {
   "cell_type": "markdown",
   "id": "5ae022ba",
   "metadata": {},
   "source": [
    "<img src=\"big-o-notation1.jpg\" width=\"500\">"
   ]
  },
  {
   "cell_type": "markdown",
   "id": "47a4bc99",
   "metadata": {},
   "source": [
    "#### From the above figure it is evident that the time taken for binary search (O(log(N)) for a given data input is less when compared to the linear search (O(N))"
   ]
  },
  {
   "cell_type": "markdown",
   "id": "5e59e49e",
   "metadata": {},
   "source": [
    "## Example problem:\n",
    "#### We have a list of size N that is rotated n times, identify the number of times the list is rotated to obtain the given list. The initial state of the list before it is rotated is in ascending order."
   ]
  },
  {
   "cell_type": "markdown",
   "id": "1ddd2724",
   "metadata": {},
   "source": [
    "#### Edge cases for testing:<br><br>1. List of 9 items rotated 2 times<br>2. List of 6 items rotated 4 times<br>3. List not rotated<br>4. List rotated N number of times (equal to the size of the array)<br>5. List with only one element<br>6. List with no element<br>7. List rotated only one time<br>8. List rotated N-1 times where N is the size of the array"
   ]
  },
  {
   "cell_type": "code",
   "execution_count": 1,
   "id": "f1e6c71b",
   "metadata": {},
   "outputs": [],
   "source": [
    "test0 = {'input':{'nums':[8,9,0,1,3,4,5,6,7]},'output':2}\n",
    "test1 = {'input':{'nums':[6,7,8,9,0,1]},'output':4}\n",
    "test2 = {'input':{'nums':[0,1,3,4,5,6]},'output':0}\n",
    "test3 = {'input':{'nums':[0,1,3,4,5,6]},'output':0}\n",
    "test4 = {'input':{'nums':[5]},'output':0}\n",
    "test5 = {'input':{'nums':[]},'output':-1}\n",
    "test6 = {'input':{'nums':[9,0,1,3,4,5,6,7]},'output':1}\n",
    "test7 = {'input':{'nums':[6,7,8,9,0]},'output':4}"
   ]
  },
  {
   "cell_type": "code",
   "execution_count": 2,
   "id": "465d8da3",
   "metadata": {},
   "outputs": [],
   "source": [
    "tests = [test0,test1,test2,test3,test4,test5,test6,test7]"
   ]
  },
  {
   "cell_type": "markdown",
   "id": "09c36a50",
   "metadata": {},
   "source": [
    "#### Linear search technique in plain english<br><br>1. Compare the current and the previous element<br>2. If the current element is less than the previous element then it is the mid element"
   ]
  },
  {
   "cell_type": "code",
   "execution_count": 3,
   "id": "1a2a0839",
   "metadata": {},
   "outputs": [],
   "source": [
    "def linear_search_rotations(nums):\n",
    "    position = 1\n",
    "    if len(nums) == 0:\n",
    "        return -1\n",
    "    while position<len(nums):\n",
    "        if nums[position]<nums[position-1]:\n",
    "            return position\n",
    "        position += 1\n",
    "    return 0\n",
    "    \n",
    "            "
   ]
  },
  {
   "cell_type": "code",
   "execution_count": 4,
   "id": "2c0c054b",
   "metadata": {},
   "outputs": [
    {
     "name": "stdout",
     "output_type": "stream",
     "text": [
      "test 0: True, time: 0.005 ms\n",
      "test 1: True, time: 0.005 ms\n",
      "test 2: True, time: 0.0048 ms\n",
      "test 3: True, time: 0.0062 ms\n",
      "test 4: True, time: 0.0019 ms\n",
      "test 5: True, time: 0.0019 ms\n",
      "test 6: True, time: 0.0031 ms\n",
      "test 7: True, time: 0.0048 ms\n"
     ]
    }
   ],
   "source": [
    "import time\n",
    "counter = 0\n",
    "for test in tests:\n",
    "    start_time = time.time()\n",
    "    result = linear_search_rotations(test['input']['nums'])==test['output']\n",
    "    end_time = time.time()\n",
    "    execution_time = round((end_time-start_time)*1000,4)\n",
    "    print(f\"test {counter}: {result}, time: {execution_time} ms\")\n",
    "    counter +=1"
   ]
  },
  {
   "cell_type": "markdown",
   "id": "63ece8b9",
   "metadata": {},
   "source": [
    "#### Binary Search technique in plain english<br><ol><li>Identify the middle element</li><li>Check if the middle element is lesser than the element previous to the middle element in the array and if that is true, then the middle element position is equal to the number of rotation</li><li>Else If the middle element is greater than the last element in the array, then the middle element lies towards the right of the middle element</li><li>Else if the middle element is lesser than the first element in the array, then the middle element lies towards the left of the middle element</li><li>Else if the list is empty then return -1</li><li>Else if the list has only one element, then return 0</li></ol>"
   ]
  },
  {
   "cell_type": "code",
   "execution_count": 10,
   "id": "58880018",
   "metadata": {},
   "outputs": [],
   "source": [
    "def binary_search_rotations(nums):\n",
    "    lo = 0\n",
    "    hi = len(nums)-1\n",
    "    \n",
    "    if hi-lo == 0:\n",
    "        return 0\n",
    "    while lo <= hi:\n",
    "        mid = (lo+hi)//2\n",
    "        mid_number = nums[mid]\n",
    "        \n",
    "        #print(f\"lo: {lo}, hi: {hi}, mid: {mid}, mid number: {mid_number}\")\n",
    "        if len(nums)>0:\n",
    "            if mid>0 and nums[mid]<nums[mid-1]:\n",
    "                # The position of the mid element is the number of rotations\n",
    "                return mid\n",
    "            elif nums[mid]>nums[hi]:\n",
    "                # The final mid element lies to the right of current mid\n",
    "                lo = mid+1\n",
    "            elif nums[lo]>nums[mid]:\n",
    "                # The final mid element lies to the left of the current mid element\n",
    "                hi = mid-1\n",
    "            else:\n",
    "                return 0\n",
    "    return -1\n",
    "        \n",
    "            "
   ]
  },
  {
   "cell_type": "code",
   "execution_count": 11,
   "id": "00d8e4d5",
   "metadata": {},
   "outputs": [
    {
     "data": {
      "text/plain": [
       "True"
      ]
     },
     "execution_count": 11,
     "metadata": {},
     "output_type": "execute_result"
    }
   ],
   "source": [
    "binary_search_rotations(test2['input']['nums'])==test2['output']"
   ]
  },
  {
   "cell_type": "code",
   "execution_count": 12,
   "id": "87b9755c",
   "metadata": {},
   "outputs": [
    {
     "name": "stdout",
     "output_type": "stream",
     "text": [
      "test 0: True, time: 0.0122 ms\n",
      "test 1: True, time: 0.0057 ms\n",
      "test 2: True, time: 0.0048 ms\n",
      "test 3: True, time: 0.005 ms\n",
      "test 4: True, time: 0.0021 ms\n",
      "test 5: True, time: 0.0019 ms\n",
      "test 6: True, time: 0.0057 ms\n",
      "test 7: True, time: 0.006 ms\n"
     ]
    }
   ],
   "source": [
    "import time\n",
    "counter = 0\n",
    "for test in tests:\n",
    "    start_time = time.time()\n",
    "    result = binary_search_rotations(test['input']['nums'])==test['output']\n",
    "    end_time = time.time()\n",
    "    execution_time = round((end_time-start_time)*1000,4)\n",
    "    print(f\"test {counter}: {result}, time: {execution_time} ms\")\n",
    "    counter +=1"
   ]
  },
  {
   "cell_type": "markdown",
   "id": "cc346acc",
   "metadata": {},
   "source": [
    "### Testing a large test array to compare the time taken for execution between linear and binary search"
   ]
  },
  {
   "cell_type": "code",
   "execution_count": 31,
   "id": "ea265bf6",
   "metadata": {},
   "outputs": [],
   "source": [
    "test_part1 = list(range(300000,1000000))\n",
    "test_part2 = list(range(0,299999))\n",
    "final_test = test_part1 + test_part2\n",
    "large_test_array = {'input':{'nums':final_test},'output':700000}"
   ]
  },
  {
   "cell_type": "code",
   "execution_count": 32,
   "id": "d59219f1",
   "metadata": {},
   "outputs": [
    {
     "name": "stdout",
     "output_type": "stream",
     "text": [
      "Linear Search ====> result: True, time: 142.3562 ms\n",
      "Binary Search ====> result: True, time: 0.0701 ms\n"
     ]
    }
   ],
   "source": [
    "#Linear Search\n",
    "start_time = time.time()\n",
    "result = linear_search_rotations(large_test_array['input']['nums'])==large_test_array['output']\n",
    "end_time = time.time()\n",
    "execution_time = round((end_time-start_time)*1000,4)\n",
    "print(f\"Linear Search ====> result: {result}, time: {execution_time} ms\")\n",
    "\n",
    "#Binary Search\n",
    "start_time = time.time()\n",
    "result = binary_search_rotations(large_test_array['input']['nums'])==large_test_array['output']\n",
    "end_time = time.time()\n",
    "execution_time = round((end_time-start_time)*1000,4)\n",
    "print(f\"Binary Search ====> result: {result}, time: {execution_time} ms\")"
   ]
  }
 ],
 "metadata": {
  "kernelspec": {
   "display_name": "Python 3 (ipykernel)",
   "language": "python",
   "name": "python3"
  },
  "language_info": {
   "codemirror_mode": {
    "name": "ipython",
    "version": 3
   },
   "file_extension": ".py",
   "mimetype": "text/x-python",
   "name": "python",
   "nbconvert_exporter": "python",
   "pygments_lexer": "ipython3",
   "version": "3.9.7"
  }
 },
 "nbformat": 4,
 "nbformat_minor": 5
}
